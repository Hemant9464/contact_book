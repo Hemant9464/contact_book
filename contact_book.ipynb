{
 "cells": [
  {
   "cell_type": "code",
   "execution_count": null,
   "id": "42d784b5",
   "metadata": {},
   "outputs": [],
   "source": [
    "contact=[]\n",
    "def add_students():\n",
    "    while True:\n",
    "        ask=int(input(\"how many entries you want to add\"))\n",
    "        for i in range(ask):\n",
    "            name=input(\"enter your name\")\n",
    "            number=int(input(\"enter contact number\"))\n",
    "            contact.append({\"name\":name,\"number\":number})\n",
    "            print(\"contact added successfully\")\n",
    "        break\n",
    "def search():\n",
    "    name=input(\"enter the name you want to search:\")\n",
    "    for contacts in contact:\n",
    "        if contacts[\"name\"]==name:\n",
    "            print(f\"name is {contacts['name']},number: {contacts['number']}\")\n",
    "def delete():\n",
    "    name=input(\"enter the name you want to delete:\")\n",
    "    for contacts in contact:\n",
    "        if contacts[\"name\"]==name:\n",
    "            contact.remove(contacts)\n",
    "            print(contact)\n",
    "while True:\n",
    "        print(\"\\n 1.) ADD CONTACT\")\n",
    "        print(\"\\n 2.) SEARCH CONTACT\")\n",
    "        print(\"\\n 3.) DELETE CONTACT\")\n",
    "        choice=input(\"enter your choices\")\n",
    "        if choice==\"1\":\n",
    "            add_students()\n",
    "        elif choice==\"2\":\n",
    "            search()\n",
    "        elif choice==\"3\":\n",
    "            delete()\n",
    "            break\n",
    "        else:\n",
    "            print(\"invalid\")\n"
   ]
  }
 ],
 "metadata": {
  "kernelspec": {
   "display_name": "Python 3 (ipykernel)",
   "language": "python",
   "name": "python3"
  },
  "language_info": {
   "codemirror_mode": {
    "name": "ipython",
    "version": 3
   },
   "file_extension": ".py",
   "mimetype": "text/x-python",
   "name": "python",
   "nbconvert_exporter": "python",
   "pygments_lexer": "ipython3",
   "version": "3.11.5"
  }
 },
 "nbformat": 4,
 "nbformat_minor": 5
}
